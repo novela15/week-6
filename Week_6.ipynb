{
  "nbformat": 4,
  "nbformat_minor": 0,
  "metadata": {
    "colab": {
      "provenance": []
    },
    "kernelspec": {
      "name": "python3",
      "display_name": "Python 3"
    },
    "language_info": {
      "name": "python"
    }
  },
  "cells": [
    {
      "cell_type": "markdown",
      "source": [
        "# **Weekly Exercise 1**"
      ],
      "metadata": {
        "id": "fzrC4P_11DM1"
      }
    },
    {
      "cell_type": "code",
      "execution_count": null,
      "metadata": {
        "colab": {
          "base_uri": "https://localhost:8080/"
        },
        "id": "fLpKZOzYyXb7",
        "outputId": "19ca2910-4261-4c53-b3ef-9608e51b929b"
      },
      "outputs": [
        {
          "output_type": "stream",
          "name": "stdout",
          "text": [
            "Masukkan Angka: 6\n",
            "     * \n",
            "    * * \n",
            "   * * * \n",
            "  * * * * \n",
            " * * * * * \n",
            "* * * * * * \n"
          ]
        }
      ],
      "source": [
        "n = int(input(\"Masukkan Angka: \"))\n",
        "\n",
        "for i in range(n):\n",
        "    for j in range(n-i-1):\n",
        "        print(\" \", end=\"\")\n",
        "    for k in range(i+1):\n",
        "        print(\"* \", end=\"\")\n",
        "    print()"
      ]
    },
    {
      "cell_type": "markdown",
      "source": [
        "# **Weekly Exercise 2**"
      ],
      "metadata": {
        "id": "ZT7IMpBA1J_d"
      }
    },
    {
      "cell_type": "code",
      "source": [
        "n = int(input(\"Masukkan Angka: \"))\n",
        "for i in range(n):\n",
        "    for j in range(n - i - 1):\n",
        "        print(\" \", end=\"\")\n",
        "\n",
        "    number = 1\n",
        "    for j in range(i + 1):\n",
        "        print(number, end=\" \")\n",
        "        number = number * (i - j) // (j + 1)\n",
        "    print()\n"
      ],
      "metadata": {
        "colab": {
          "base_uri": "https://localhost:8080/"
        },
        "id": "1pDmH-mI4p7T",
        "outputId": "5b48dc8c-f850-4e88-ab9d-e5df4e11b1e8"
      },
      "execution_count": null,
      "outputs": [
        {
          "output_type": "stream",
          "name": "stdout",
          "text": [
            "Masukkan Angka: 6\n",
            "     1 \n",
            "    1 1 \n",
            "   1 2 1 \n",
            "  1 3 3 1 \n",
            " 1 4 6 4 1 \n",
            "1 5 10 10 5 1 \n"
          ]
        }
      ]
    },
    {
      "cell_type": "markdown",
      "source": [
        "# **Weekly Exercise 3**"
      ],
      "metadata": {
        "id": "nR9s_stG7dnK"
      }
    },
    {
      "cell_type": "code",
      "source": [
        "baris = int(input(\"Masukan angka: \"))\n",
        "\n",
        "if baris <= 0:\n",
        "  hasil = 0\n",
        "else:\n",
        "  jumlah = 2**(baris-1)\n",
        "  hasil = jumlah\n",
        "print(hasil)"
      ],
      "metadata": {
        "colab": {
          "base_uri": "https://localhost:8080/"
        },
        "id": "bBm5zMJT7kNB",
        "outputId": "a71a04ca-4d0c-4522-98fa-b87c9b12ef9e"
      },
      "execution_count": null,
      "outputs": [
        {
          "output_type": "stream",
          "name": "stdout",
          "text": [
            "Masukan angka: 4\n",
            "8\n"
          ]
        }
      ]
    }
  ]
}